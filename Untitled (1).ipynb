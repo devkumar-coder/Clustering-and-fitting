{
 "cells": [
  {
   "cell_type": "markdown",
   "id": "44bee705",
   "metadata": {},
   "source": [
    "### Assignment: Clustering and fitting"
   ]
  },
  {
   "cell_type": "markdown",
   "id": "ae08c674",
   "metadata": {},
   "source": [
    "## Name : Dev Kumar\n",
    "## Student Number:23085054"
   ]
  },
  {
   "cell_type": "markdown",
   "id": "88b3b235",
   "metadata": {},
   "source": [
    "###### Importing necessary libraries"
   ]
  },
  {
   "cell_type": "code",
   "execution_count": 116,
   "id": "b6d74fc7",
   "metadata": {},
   "outputs": [],
   "source": [
    "import pandas as pd\n",
    "import numpy as np\n",
    "import matplotlib.pyplot as plt\n",
    "import seaborn as sns\n",
    "from sklearn.cluster import KMeans\n",
    "from sklearn.linear_model import LinearRegression\n",
    "from sklearn.metrics import silhouette_score"
   ]
  },
  {
   "cell_type": "markdown",
   "id": "b84c3b62",
   "metadata": {},
   "source": [
    "###### Importing the dataset"
   ]
  },
  {
   "cell_type": "code",
   "execution_count": 117,
   "id": "c048a8c0",
   "metadata": {},
   "outputs": [],
   "source": [
    "df = pd.read_csv('Mall_Customers.csv')"
   ]
  },
  {
   "cell_type": "markdown",
   "id": "f0d7f951",
   "metadata": {},
   "source": [
    "###### Checking the top 5 rows of the dataset"
   ]
  },
  {
   "cell_type": "code",
   "execution_count": 118,
   "id": "fb46dd2c",
   "metadata": {},
   "outputs": [
    {
     "data": {
      "text/html": [
       "<div>\n",
       "<style scoped>\n",
       "    .dataframe tbody tr th:only-of-type {\n",
       "        vertical-align: middle;\n",
       "    }\n",
       "\n",
       "    .dataframe tbody tr th {\n",
       "        vertical-align: top;\n",
       "    }\n",
       "\n",
       "    .dataframe thead th {\n",
       "        text-align: right;\n",
       "    }\n",
       "</style>\n",
       "<table border=\"1\" class=\"dataframe\">\n",
       "  <thead>\n",
       "    <tr style=\"text-align: right;\">\n",
       "      <th></th>\n",
       "      <th>CustomerID</th>\n",
       "      <th>Gender</th>\n",
       "      <th>Age</th>\n",
       "      <th>Annual Income (k$)</th>\n",
       "      <th>Spending Score (1-100)</th>\n",
       "    </tr>\n",
       "  </thead>\n",
       "  <tbody>\n",
       "    <tr>\n",
       "      <th>0</th>\n",
       "      <td>1</td>\n",
       "      <td>Male</td>\n",
       "      <td>19</td>\n",
       "      <td>15</td>\n",
       "      <td>39</td>\n",
       "    </tr>\n",
       "    <tr>\n",
       "      <th>1</th>\n",
       "      <td>2</td>\n",
       "      <td>Male</td>\n",
       "      <td>21</td>\n",
       "      <td>15</td>\n",
       "      <td>81</td>\n",
       "    </tr>\n",
       "    <tr>\n",
       "      <th>2</th>\n",
       "      <td>3</td>\n",
       "      <td>Female</td>\n",
       "      <td>20</td>\n",
       "      <td>16</td>\n",
       "      <td>6</td>\n",
       "    </tr>\n",
       "    <tr>\n",
       "      <th>3</th>\n",
       "      <td>4</td>\n",
       "      <td>Female</td>\n",
       "      <td>23</td>\n",
       "      <td>16</td>\n",
       "      <td>77</td>\n",
       "    </tr>\n",
       "    <tr>\n",
       "      <th>4</th>\n",
       "      <td>5</td>\n",
       "      <td>Female</td>\n",
       "      <td>31</td>\n",
       "      <td>17</td>\n",
       "      <td>40</td>\n",
       "    </tr>\n",
       "  </tbody>\n",
       "</table>\n",
       "</div>"
      ],
      "text/plain": [
       "   CustomerID  Gender  Age  Annual Income (k$)  Spending Score (1-100)\n",
       "0           1    Male   19                  15                      39\n",
       "1           2    Male   21                  15                      81\n",
       "2           3  Female   20                  16                       6\n",
       "3           4  Female   23                  16                      77\n",
       "4           5  Female   31                  17                      40"
      ]
     },
     "execution_count": 118,
     "metadata": {},
     "output_type": "execute_result"
    }
   ],
   "source": [
    "df.head()"
   ]
  },
  {
   "cell_type": "markdown",
   "id": "ef40e07b",
   "metadata": {},
   "source": [
    "Statistical Analysis"
   ]
  },
  {
   "cell_type": "code",
   "execution_count": 119,
   "id": "7d5aab9b",
   "metadata": {},
   "outputs": [
    {
     "name": "stdout",
     "output_type": "stream",
     "text": [
      "Statistical Summary:\n",
      "       CustomerID         Age  Annual Income (k$)  Spending Score (1-100)\n",
      "count  200.000000  200.000000          200.000000              200.000000\n",
      "mean   100.500000   38.850000           60.560000               50.200000\n",
      "std     57.879185   13.969007           26.264721               25.823522\n",
      "min      1.000000   18.000000           15.000000                1.000000\n",
      "25%     50.750000   28.750000           41.500000               34.750000\n",
      "50%    100.500000   36.000000           61.500000               50.000000\n",
      "75%    150.250000   49.000000           78.000000               73.000000\n",
      "max    200.000000   70.000000          137.000000               99.000000\n"
     ]
    }
   ],
   "source": [
    "print(\"Statistical Summary:\")\n",
    "print(df.describe())\n"
   ]
  },
  {
   "cell_type": "code",
   "execution_count": 120,
   "id": "eda0b418",
   "metadata": {},
   "outputs": [
    {
     "name": "stdout",
     "output_type": "stream",
     "text": [
      "\n",
      "Correlation Matrix:\n",
      "                        CustomerID       Age  Annual Income (k$)  \\\n",
      "CustomerID                1.000000 -0.026763            0.977548   \n",
      "Age                      -0.026763  1.000000           -0.012398   \n",
      "Annual Income (k$)        0.977548 -0.012398            1.000000   \n",
      "Spending Score (1-100)    0.013835 -0.327227            0.009903   \n",
      "\n",
      "                        Spending Score (1-100)  \n",
      "CustomerID                            0.013835  \n",
      "Age                                  -0.327227  \n",
      "Annual Income (k$)                    0.009903  \n",
      "Spending Score (1-100)                1.000000  \n"
     ]
    }
   ],
   "source": [
    "print(\"\\nCorrelation Matrix:\")\n",
    "print(df.corr())"
   ]
  },
  {
   "cell_type": "markdown",
   "id": "70d48355",
   "metadata": {},
   "source": [
    "Dropping the irrerelavant columns from the dataset"
   ]
  },
  {
   "cell_type": "code",
   "execution_count": 121,
   "id": "ea16a33f",
   "metadata": {},
   "outputs": [],
   "source": [
    "df = df.drop(columns = ['Age','CustomerID','Gender'])"
   ]
  },
  {
   "cell_type": "code",
   "execution_count": 122,
   "id": "a61bbdd5",
   "metadata": {},
   "outputs": [
    {
     "data": {
      "text/html": [
       "<div>\n",
       "<style scoped>\n",
       "    .dataframe tbody tr th:only-of-type {\n",
       "        vertical-align: middle;\n",
       "    }\n",
       "\n",
       "    .dataframe tbody tr th {\n",
       "        vertical-align: top;\n",
       "    }\n",
       "\n",
       "    .dataframe thead th {\n",
       "        text-align: right;\n",
       "    }\n",
       "</style>\n",
       "<table border=\"1\" class=\"dataframe\">\n",
       "  <thead>\n",
       "    <tr style=\"text-align: right;\">\n",
       "      <th></th>\n",
       "      <th>Annual Income (k$)</th>\n",
       "      <th>Spending Score (1-100)</th>\n",
       "    </tr>\n",
       "  </thead>\n",
       "  <tbody>\n",
       "    <tr>\n",
       "      <th>0</th>\n",
       "      <td>15</td>\n",
       "      <td>39</td>\n",
       "    </tr>\n",
       "    <tr>\n",
       "      <th>1</th>\n",
       "      <td>15</td>\n",
       "      <td>81</td>\n",
       "    </tr>\n",
       "    <tr>\n",
       "      <th>2</th>\n",
       "      <td>16</td>\n",
       "      <td>6</td>\n",
       "    </tr>\n",
       "    <tr>\n",
       "      <th>3</th>\n",
       "      <td>16</td>\n",
       "      <td>77</td>\n",
       "    </tr>\n",
       "    <tr>\n",
       "      <th>4</th>\n",
       "      <td>17</td>\n",
       "      <td>40</td>\n",
       "    </tr>\n",
       "  </tbody>\n",
       "</table>\n",
       "</div>"
      ],
      "text/plain": [
       "   Annual Income (k$)  Spending Score (1-100)\n",
       "0                  15                      39\n",
       "1                  15                      81\n",
       "2                  16                       6\n",
       "3                  16                      77\n",
       "4                  17                      40"
      ]
     },
     "execution_count": 122,
     "metadata": {},
     "output_type": "execute_result"
    }
   ],
   "source": [
    "df.head()"
   ]
  },
  {
   "cell_type": "markdown",
   "id": "6c5944b4",
   "metadata": {},
   "source": [
    "Creating histogram between annual income(k$)"
   ]
  },
  {
   "cell_type": "code",
   "execution_count": 123,
   "id": "989c17e7",
   "metadata": {},
   "outputs": [
    {
     "data": {
      "image/png": "[encoded data removed]",
      "text/plain": [
       "<Figure size 1080x504 with 1 Axes>"
      ]
     },
     "metadata": {
      "needs_background": "light"
     },
     "output_type": "display_data"
    }
   ],
   "source": [
    "plt.figure(figsize =(15,7))\n",
    "plt.hist(df['Annual Income (k$)'],bins = 20,color='skyblue',edgecolor='black')\n",
    "plt.title(\"Distribution of Annual Income(k$)\",color = 'blue',fontsize=16)\n",
    "plt.xlabel(\"Annual Income (k$)\",fontsize=14)\n",
    "plt.ylabel(\"frequency\",fontsize=14)\n",
    "plt.show()"
   ]
  },
  {
   "cell_type": "markdown",
   "id": "86d6b689",
   "metadata": {},
   "source": [
    "Creating a scatterplot between the Annual Income (k$) and Spending Score (1-100) "
   ]
  },
  {
   "cell_type": "code",
   "execution_count": 124,
   "id": "5e9fb0d0",
   "metadata": {},
   "outputs": [
    {
     "data": {
      "image/png": "[encoded data removed]",
      "text/plain": [
       "<Figure size 1080x504 with 1 Axes>"
      ]
     },
     "metadata": {
      "needs_background": "light"
     },
     "output_type": "display_data"
    }
   ],
   "source": [
    "plt.figure(figsize =(15,7))\n",
    "plt.scatter(df['Spending Score (1-100)'],df['Annual Income (k$)'],alpha=0.8,color='purple')\n",
    "plt.title(\"Scatterplot between the Annual Income (k$) and Spending Score (1-100)\",color = 'g',fontsize=16)\n",
    "plt.xlabel(\"Spending Score (1-100)\",fontsize=14)\n",
    "plt.ylabel('Annual Income (k$)',fontsize=14)\n",
    "plt.show()"
   ]
  },
  {
   "cell_type": "markdown",
   "id": "de0d5000",
   "metadata": {},
   "source": [
    "Creating the heatmap for the correlation matrix of the dataset"
   ]
  },
  {
   "cell_type": "code",
   "execution_count": 125,
   "id": "7e7ea5f2",
   "metadata": {},
   "outputs": [
    {
     "data": {
      "image/png": "[encoded data removed]",
      "text/plain": [
       "<Figure size 1080x504 with 2 Axes>"
      ]
     },
     "metadata": {
      "needs_background": "light"
     },
     "output_type": "display_data"
    }
   ],
   "source": [
    "plt.figure(figsize =(15,7))\n",
    "sns.heatmap((df.corr()),annot = True,cmap='coolwarm',fmt='.2f')\n",
    "plt.title(\"Correlation heatmap\",fontsize = 16)\n",
    "\n",
    "plt.show()"
   ]
  },
  {
   "cell_type": "markdown",
   "id": "c278a0e2",
   "metadata": {},
   "source": [
    "Creating the boxplot for the Annual Income (k$) and Spending Score (1-100)"
   ]
  },
  {
   "cell_type": "code",
   "execution_count": 132,
   "id": "995ab0f8",
   "metadata": {},
   "outputs": [
    {
     "name": "stderr",
     "output_type": "stream",
     "text": [
      "C:\\Users\\91854\\anaconda3\\lib\\site-packages\\seaborn\\_decorators.py:36: FutureWarning: Pass the following variable as a keyword arg: x. From version 0.12, the only valid positional argument will be `data`, and passing other arguments without an explicit keyword will result in an error or misinterpretation.\n",
      "  warnings.warn(\n",
      "C:\\Users\\91854\\anaconda3\\lib\\site-packages\\seaborn\\_decorators.py:36: FutureWarning: Pass the following variable as a keyword arg: x. From version 0.12, the only valid positional argument will be `data`, and passing other arguments without an explicit keyword will result in an error or misinterpretation.\n",
      "  warnings.warn(\n"
     ]
    },
    {
     "data": {
      "image/png": "[encoded data removed]",
      "text/plain": [
       "<Figure size 432x288 with 2 Axes>"
      ]
     },
     "metadata": {
      "needs_background": "light"
     },
     "output_type": "display_data"
    }
   ],
   "source": [
    "plt.suptitle(\"Box plot for the Annual Income and Spendig Score\",fontsize=16,color='blue')\n",
    "plt.subplot(1,2,1)\n",
    "sns.boxplot(df['Annual Income (k$)'])\n",
    "plt.savefig(\"bOX PLOT ON ANNUAL INCOME.png\")\n",
    "plt.subplot(1,2,2)\n",
    "sns.boxplot(df['Spending Score (1-100)'])\n",
    "plt.savefig(\"bOX PLOT ON spending score.png\")\n",
    "plt.show()"
   ]
  },
  {
   "cell_type": "markdown",
   "id": "829ed20a",
   "metadata": {},
   "source": [
    "Creating the Elbow curve for getting the best value of K (No. of clusters)"
   ]
  },
  {
   "cell_type": "code",
   "execution_count": 133,
   "id": "f32983ab",
   "metadata": {},
   "outputs": [
    {
     "name": "stderr",
     "output_type": "stream",
     "text": [
      "C:\\Users\\91854\\anaconda3\\lib\\site-packages\\sklearn\\cluster\\_kmeans.py:1036: UserWarning: KMeans is known to have a memory leak on Windows with MKL, when there are less chunks than available threads. You can avoid it by setting the environment variable OMP_NUM_THREADS=1.\n",
      "  warnings.warn(\n"
     ]
    },
    {
     "data": {
      "image/png": "[encoded data removed]",
      "text/plain": [
       "<Figure size 1080x504 with 1 Axes>"
      ]
     },
     "metadata": {
      "needs_background": "light"
     },
     "output_type": "display_data"
    }
   ],
   "source": [
    "distortions = []\n",
    "K = range(1, 6)\n",
    "for k in K:\n",
    "    kmeans = KMeans(n_clusters=k, random_state=42)\n",
    "    kmeans.fit(df)\n",
    "    distortions.append(kmeans.inertia_)\n",
    "\n",
    "plt.figure(figsize=(15, 7))\n",
    "plt.plot(K, distortions, 'bx-')\n",
    "plt.title('Elbow Method',fontsize = 16,color ='Blue')\n",
    "plt.xlabel('Number of clusters')\n",
    "plt.ylabel('Distortion')\n",
    "plt.savefig(\"ELBOW_METHOD.png\")\n",
    "plt.show()"
   ]
  },
  {
   "cell_type": "markdown",
   "id": "df2dddf5",
   "metadata": {},
   "source": [
    "Applying the K-Means clustering on the dataset"
   ]
  },
  {
   "cell_type": "code",
   "execution_count": 128,
   "id": "07e92f73",
   "metadata": {},
   "outputs": [
    {
     "name": "stdout",
     "output_type": "stream",
     "text": [
      "Silhouette Score: 0.46761358158775435\n"
     ]
    }
   ],
   "source": [
    "kmeans = KMeans(n_clusters=3, random_state=42)\n",
    "labels = kmeans.fit_predict(df)\n",
    "silhouette_avg = silhouette_score(df, labels)\n",
    "print(f'Silhouette Score: {silhouette_avg}')"
   ]
  },
  {
   "cell_type": "markdown",
   "id": "215c19db",
   "metadata": {},
   "source": [
    "Applying the Linear Regression for getting the best fit line"
   ]
  },
  {
   "cell_type": "code",
   "execution_count": 129,
   "id": "566a945e",
   "metadata": {},
   "outputs": [],
   "source": [
    "X = df[['Annual Income (k$)']].values\n",
    "y = df['Spending Score (1-100)'].values\n",
    "model = LinearRegression()\n",
    "model.fit(X, y)\n",
    "predictions = model.predict(X)"
   ]
  },
  {
   "cell_type": "markdown",
   "id": "bd3f745c",
   "metadata": {},
   "source": [
    "Getting the best Regression Coefficients and Intercept for best fit line"
   ]
  },
  {
   "cell_type": "code",
   "execution_count": 130,
   "id": "46b80b09",
   "metadata": {},
   "outputs": [
    {
     "name": "stdout",
     "output_type": "stream",
     "text": [
      "Regression Coefficients: [0.0097365], Intercept: 49.61035766442925\n"
     ]
    }
   ],
   "source": [
    "\n",
    "print(f'Regression Coefficients: {model.coef_}, Intercept: {model.intercept_}')"
   ]
  },
  {
   "cell_type": "markdown",
   "id": "64041a4f",
   "metadata": {},
   "source": [
    "Three clusters were used for the K-Means clustering, which produced a moderate clustering structure with a Silhouette Score of 0.4676. This implies that the clusters are significant and rather well-separated.\n",
    "\n",
    "Based on Annual Income (k$), the best-fit line for Linear Regression was determined to forecast Spending Score (1-100). There is a very weak positive correlation between income and expenditure score, as indicated by the regression coefficient of 0.0097 and the intercept of 49.61.\n"
   ]
  },
  {
   "cell_type": "code",
   "execution_count": null,
   "id": "c0e75c76",
   "metadata": {},
   "outputs": [],
   "source": []
  }
 ],
 "metadata": {
  "kernelspec": {
   "display_name": "Python 3 (ipykernel)",
   "language": "python",
   "name": "python3"
  },
  "language_info": {
   "codemirror_mode": {
    "name": "ipython",
    "version": 3
   },
   "file_extension": ".py",
   "mimetype": "text/x-python",
   "name": "python",
   "nbconvert_exporter": "python",
   "pygments_lexer": "ipython3",
   "version": "3.9.12"
  }
 },
 "nbformat": 4,
 "nbformat_minor": 5
}
